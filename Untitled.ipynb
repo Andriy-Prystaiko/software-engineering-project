{
 "cells": [
  {
   "cell_type": "code",
   "execution_count": 19,
   "id": "d077bb08",
   "metadata": {},
   "outputs": [
    {
     "name": "stdout",
     "output_type": "stream",
     "text": [
      "________Hello welcome to rock paper scissors________\n",
      "\n",
      "Select rock, paper, or scissorspaper\n",
      "paper\n",
      "Tie go again\n",
      "\n",
      "Select rock, paper, or scissorsscissors\n",
      "paper\n",
      "You win\n"
     ]
    }
   ],
   "source": [
    "# 2022.01.21\n",
    "# Our first AI program\n",
    "import random\n",
    "print(\"________Hello welcome to rock paper scissors________\")\n",
    "seed = random.randint(1, 3)\n",
    "\n",
    "if seed == 1:\n",
    "    AI_num = \"rock\"\n",
    "elif seed == 2:\n",
    "    AI_num = \"paper\"\n",
    "else:\n",
    "    AI_num = \"scissors\"\n",
    "    \n",
    "while True:\n",
    "    inputNum = input(\"\\nSelect rock, paper, or scissors\")\n",
    "    print(AI_num)\n",
    "    if AI_num == inputNum:\n",
    "        print(\"Tie go again\")\n",
    "    elif (AI_num == \"rock\" and inputNum == \"paper\" or AI_num == \"paper\" and inputNum == \"scissors\" or AI_num == \"scissors\" and inputNum == \"rock\"):\n",
    "        print(\"You win\")\n",
    "        break\n",
    "    else:\n",
    "        print(\"You lose\")\n",
    "        break\n"
   ]
  },
  {
   "cell_type": "markdown",
   "id": "39cc2972",
   "metadata": {},
   "source": [
    "### Exercise 1: Rock Paper Scissors"
   ]
  },
  {
   "cell_type": "code",
   "execution_count": null,
   "id": "e38f2358",
   "metadata": {},
   "outputs": [],
   "source": []
  }
 ],
 "metadata": {
  "kernelspec": {
   "display_name": "Python 3",
   "language": "python",
   "name": "python3"
  },
  "language_info": {
   "codemirror_mode": {
    "name": "ipython",
    "version": 3
   },
   "file_extension": ".py",
   "mimetype": "text/x-python",
   "name": "python",
   "nbconvert_exporter": "python",
   "pygments_lexer": "ipython3",
   "version": "3.8.8"
  }
 },
 "nbformat": 4,
 "nbformat_minor": 5
}
